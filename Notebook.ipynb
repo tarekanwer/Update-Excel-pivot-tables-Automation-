{
 "cells": [
  {
   "cell_type": "markdown",
   "id": "111c3cb6",
   "metadata": {},
   "source": [
    "# Part 1"
   ]
  },
  {
   "cell_type": "markdown",
   "id": "02cb9582",
   "metadata": {},
   "source": [
    "## Load data from Marketing Input and Finance Input xlsx, identify sheet in the load command"
   ]
  },
  {
   "cell_type": "code",
   "execution_count": 1,
   "id": "e7cd59ea",
   "metadata": {},
   "outputs": [],
   "source": [
    "import numpy as np\n",
    "from openpyxl import load_workbook\n",
    "import pandas as pd\n",
    "pd.options.mode.chained_assignment = None\n",
    "from datetime import datetime\n",
    "fin = pd.read_excel('Finance Input.xlsx')\n",
    "mar = pd.read_excel('Marketing Input.xlsx')"
   ]
  },
  {
   "cell_type": "code",
   "execution_count": 2,
   "id": "14c47bd9",
   "metadata": {},
   "outputs": [],
   "source": [
    "def write_excel(filename,sheetname,dataframe):\n",
    "    book = load_workbook(filename)\n",
    "    writer = pd.ExcelWriter(filename, engine='openpyxl') \n",
    "    writer.book = book\n",
    "    writer.sheets = dict((ws.title, ws) for ws in book.worksheets)\n",
    "    dataframe.to_excel(writer, sheetname,index = False)\n",
    "    writer.save()"
   ]
  },
  {
   "cell_type": "code",
   "execution_count": 3,
   "id": "ca9591de",
   "metadata": {},
   "outputs": [],
   "source": [
    "def mdy_to_ymd(d):\n",
    "    return datetime.strptime(d, '%b-%Y').strftime('%Y-%m-%d')"
   ]
  },
  {
   "cell_type": "markdown",
   "id": "2e2eafa1",
   "metadata": {},
   "source": [
    "### Data Cleaning"
   ]
  },
  {
   "cell_type": "code",
   "execution_count": 4,
   "id": "36623a3c",
   "metadata": {},
   "outputs": [],
   "source": [
    "fin[0] = 'Finance' "
   ]
  },
  {
   "cell_type": "code",
   "execution_count": 5,
   "id": "8ac8a57e",
   "metadata": {},
   "outputs": [],
   "source": [
    "fin = fin.rename(columns={0: 'Department'})"
   ]
  },
  {
   "cell_type": "code",
   "execution_count": 6,
   "id": "94f95e91",
   "metadata": {},
   "outputs": [
    {
     "data": {
      "text/plain": [
       "array([ True,  True,  True,  True,  True,  True,  True,  True,  True,\n",
       "        True,  True,  True,  True,  True,  True,  True,  True,  True,\n",
       "        True,  True,  True,  True,  True,  True,  True,  True,  True,\n",
       "        True,  True,  True,  True,  True,  True,  True,  True,  True])"
      ]
     },
     "execution_count": 6,
     "metadata": {},
     "output_type": "execute_result"
    }
   ],
   "source": [
    "fin.columns == mar.columns # making sure that columns are same"
   ]
  },
  {
   "cell_type": "markdown",
   "id": "5d6f77c2",
   "metadata": {},
   "source": [
    "## Append data from both files into a new dataframe"
   ]
  },
  {
   "cell_type": "code",
   "execution_count": 7,
   "id": "73e447ed",
   "metadata": {},
   "outputs": [],
   "source": [
    "df = pd.concat([fin,mar])"
   ]
  },
  {
   "cell_type": "markdown",
   "id": "51954749",
   "metadata": {},
   "source": [
    "## Unpivot the month columns from Jan 21 - Dec 22, so that months will show in column Month, and values in column \"Value\""
   ]
  },
  {
   "cell_type": "code",
   "execution_count": 8,
   "id": "2a86b85a",
   "metadata": {},
   "outputs": [],
   "source": [
    "df_unpivoted = df.melt(id_vars=df.columns[:12], var_name='Month', value_name='Value')"
   ]
  },
  {
   "cell_type": "markdown",
   "id": "4abd80c1",
   "metadata": {},
   "source": [
    "## The new data set should have columns: Department, Segment, Brand, Market, GLName, Notes, Month, Value (remove 1 2 3 4 5 6 7)"
   ]
  },
  {
   "cell_type": "code",
   "execution_count": 9,
   "id": "f0261e7f",
   "metadata": {},
   "outputs": [],
   "source": [
    "col = df.columns[6:12]\n",
    "clean = df_unpivoted.drop(columns = col)"
   ]
  },
  {
   "cell_type": "code",
   "execution_count": 10,
   "id": "03bd6e26",
   "metadata": {},
   "outputs": [
    {
     "data": {
      "text/plain": [
       "Index(['Department', 'Segment', 'Brand', 'Market', 'GLName', 'Notes', 'Month',\n",
       "       'Value'],\n",
       "      dtype='object')"
      ]
     },
     "execution_count": 10,
     "metadata": {},
     "output_type": "execute_result"
    }
   ],
   "source": [
    "clean.columns"
   ]
  },
  {
   "cell_type": "code",
   "execution_count": 11,
   "id": "0550684d",
   "metadata": {},
   "outputs": [
    {
     "data": {
      "text/plain": [
       "Index(['Department', 'Segment', 'Brand', 'Market', 'GLName', 'Notes', '1', '2',\n",
       "       '3', '5', '6', '7', 'Month', 'Value'],\n",
       "      dtype='object')"
      ]
     },
     "execution_count": 11,
     "metadata": {},
     "output_type": "execute_result"
    }
   ],
   "source": [
    "df_unpivoted.columns"
   ]
  },
  {
   "cell_type": "markdown",
   "id": "e97f57ea",
   "metadata": {},
   "source": [
    "## save new dataframe into a new xlsx file called Summary.xlsx"
   ]
  },
  {
   "cell_type": "code",
   "execution_count": 12,
   "id": "549fa305",
   "metadata": {},
   "outputs": [],
   "source": [
    "clean.to_excel(\"Summary.xlsx\",index=False)"
   ]
  },
  {
   "cell_type": "markdown",
   "id": "0728892c",
   "metadata": {},
   "source": [
    "# Part 2"
   ]
  },
  {
   "cell_type": "markdown",
   "id": "44df97f9",
   "metadata": {},
   "source": [
    "## Load data from the new Summary.xlsx file"
   ]
  },
  {
   "cell_type": "code",
   "execution_count": 13,
   "id": "8380902e",
   "metadata": {},
   "outputs": [
    {
     "data": {
      "text/html": [
       "<div>\n",
       "<style scoped>\n",
       "    .dataframe tbody tr th:only-of-type {\n",
       "        vertical-align: middle;\n",
       "    }\n",
       "\n",
       "    .dataframe tbody tr th {\n",
       "        vertical-align: top;\n",
       "    }\n",
       "\n",
       "    .dataframe thead th {\n",
       "        text-align: right;\n",
       "    }\n",
       "</style>\n",
       "<table border=\"1\" class=\"dataframe\">\n",
       "  <thead>\n",
       "    <tr style=\"text-align: right;\">\n",
       "      <th></th>\n",
       "      <th>Department</th>\n",
       "      <th>Segment</th>\n",
       "      <th>Brand</th>\n",
       "      <th>Market</th>\n",
       "      <th>GLName</th>\n",
       "      <th>Notes</th>\n",
       "      <th>Month</th>\n",
       "      <th>Value</th>\n",
       "    </tr>\n",
       "  </thead>\n",
       "  <tbody>\n",
       "    <tr>\n",
       "      <th>0</th>\n",
       "      <td>Finance</td>\n",
       "      <td>B2C</td>\n",
       "      <td>A</td>\n",
       "      <td>NaN</td>\n",
       "      <td>Audit Fee</td>\n",
       "      <td>NaN</td>\n",
       "      <td>Jan-21</td>\n",
       "      <td>-1244.040700</td>\n",
       "    </tr>\n",
       "    <tr>\n",
       "      <th>1</th>\n",
       "      <td>Finance</td>\n",
       "      <td>B2C</td>\n",
       "      <td>A</td>\n",
       "      <td>NaN</td>\n",
       "      <td>Bank Fees</td>\n",
       "      <td>NaN</td>\n",
       "      <td>Jan-21</td>\n",
       "      <td>-88.459408</td>\n",
       "    </tr>\n",
       "    <tr>\n",
       "      <th>2</th>\n",
       "      <td>Finance</td>\n",
       "      <td>B2C</td>\n",
       "      <td>A</td>\n",
       "      <td>NaN</td>\n",
       "      <td>Business support solutions</td>\n",
       "      <td>NaN</td>\n",
       "      <td>Jan-21</td>\n",
       "      <td>-159.225500</td>\n",
       "    </tr>\n",
       "    <tr>\n",
       "      <th>3</th>\n",
       "      <td>Finance</td>\n",
       "      <td>B2C</td>\n",
       "      <td>A</td>\n",
       "      <td>NaN</td>\n",
       "      <td>Interest Expense</td>\n",
       "      <td>NaN</td>\n",
       "      <td>Jan-21</td>\n",
       "      <td>-9.622692</td>\n",
       "    </tr>\n",
       "    <tr>\n",
       "      <th>4</th>\n",
       "      <td>Finance</td>\n",
       "      <td>B2C</td>\n",
       "      <td>A</td>\n",
       "      <td>NaN</td>\n",
       "      <td>Project ACES</td>\n",
       "      <td>NaN</td>\n",
       "      <td>Jan-21</td>\n",
       "      <td>0.000000</td>\n",
       "    </tr>\n",
       "  </tbody>\n",
       "</table>\n",
       "</div>"
      ],
      "text/plain": [
       "  Department Segment Brand  Market                      GLName  Notes   Month  \\\n",
       "0    Finance     B2C     A     NaN                   Audit Fee    NaN  Jan-21   \n",
       "1    Finance     B2C     A     NaN                   Bank Fees    NaN  Jan-21   \n",
       "2    Finance     B2C     A     NaN  Business support solutions    NaN  Jan-21   \n",
       "3    Finance     B2C     A     NaN            Interest Expense    NaN  Jan-21   \n",
       "4    Finance     B2C     A     NaN                Project ACES    NaN  Jan-21   \n",
       "\n",
       "         Value  \n",
       "0 -1244.040700  \n",
       "1   -88.459408  \n",
       "2  -159.225500  \n",
       "3    -9.622692  \n",
       "4     0.000000  "
      ]
     },
     "execution_count": 13,
     "metadata": {},
     "output_type": "execute_result"
    }
   ],
   "source": [
    "new = pd.read_excel('Summary.xlsx')\n",
    "new.head()"
   ]
  },
  {
   "cell_type": "markdown",
   "id": "c25ce218",
   "metadata": {},
   "source": [
    "## Split data into 2 dataframes based on the department column. Each department should have its own dataframe"
   ]
  },
  {
   "cell_type": "code",
   "execution_count": 14,
   "id": "ebfdf6b3",
   "metadata": {},
   "outputs": [
    {
     "data": {
      "text/html": [
       "<div>\n",
       "<style scoped>\n",
       "    .dataframe tbody tr th:only-of-type {\n",
       "        vertical-align: middle;\n",
       "    }\n",
       "\n",
       "    .dataframe tbody tr th {\n",
       "        vertical-align: top;\n",
       "    }\n",
       "\n",
       "    .dataframe thead th {\n",
       "        text-align: right;\n",
       "    }\n",
       "</style>\n",
       "<table border=\"1\" class=\"dataframe\">\n",
       "  <thead>\n",
       "    <tr style=\"text-align: right;\">\n",
       "      <th></th>\n",
       "      <th>Department</th>\n",
       "      <th>Segment</th>\n",
       "      <th>Brand</th>\n",
       "      <th>Market</th>\n",
       "      <th>GLName</th>\n",
       "      <th>Notes</th>\n",
       "      <th>Month</th>\n",
       "      <th>Value</th>\n",
       "    </tr>\n",
       "  </thead>\n",
       "  <tbody>\n",
       "    <tr>\n",
       "      <th>0</th>\n",
       "      <td>Finance</td>\n",
       "      <td>B2C</td>\n",
       "      <td>A</td>\n",
       "      <td>NaN</td>\n",
       "      <td>Audit Fee</td>\n",
       "      <td>NaN</td>\n",
       "      <td>2021-01-01</td>\n",
       "      <td>-1244.040700</td>\n",
       "    </tr>\n",
       "    <tr>\n",
       "      <th>1</th>\n",
       "      <td>Finance</td>\n",
       "      <td>B2C</td>\n",
       "      <td>A</td>\n",
       "      <td>NaN</td>\n",
       "      <td>Bank Fees</td>\n",
       "      <td>NaN</td>\n",
       "      <td>2021-01-01</td>\n",
       "      <td>-88.459408</td>\n",
       "    </tr>\n",
       "    <tr>\n",
       "      <th>2</th>\n",
       "      <td>Finance</td>\n",
       "      <td>B2C</td>\n",
       "      <td>A</td>\n",
       "      <td>NaN</td>\n",
       "      <td>Business support solutions</td>\n",
       "      <td>NaN</td>\n",
       "      <td>2021-01-01</td>\n",
       "      <td>-159.225500</td>\n",
       "    </tr>\n",
       "    <tr>\n",
       "      <th>3</th>\n",
       "      <td>Finance</td>\n",
       "      <td>B2C</td>\n",
       "      <td>A</td>\n",
       "      <td>NaN</td>\n",
       "      <td>Interest Expense</td>\n",
       "      <td>NaN</td>\n",
       "      <td>2021-01-01</td>\n",
       "      <td>-9.622692</td>\n",
       "    </tr>\n",
       "    <tr>\n",
       "      <th>4</th>\n",
       "      <td>Finance</td>\n",
       "      <td>B2C</td>\n",
       "      <td>A</td>\n",
       "      <td>NaN</td>\n",
       "      <td>Project ACES</td>\n",
       "      <td>NaN</td>\n",
       "      <td>2021-01-01</td>\n",
       "      <td>0.000000</td>\n",
       "    </tr>\n",
       "  </tbody>\n",
       "</table>\n",
       "</div>"
      ],
      "text/plain": [
       "  Department Segment Brand  Market                      GLName  Notes  \\\n",
       "0    Finance     B2C     A     NaN                   Audit Fee    NaN   \n",
       "1    Finance     B2C     A     NaN                   Bank Fees    NaN   \n",
       "2    Finance     B2C     A     NaN  Business support solutions    NaN   \n",
       "3    Finance     B2C     A     NaN            Interest Expense    NaN   \n",
       "4    Finance     B2C     A     NaN                Project ACES    NaN   \n",
       "\n",
       "       Month        Value  \n",
       "0 2021-01-01 -1244.040700  \n",
       "1 2021-01-01   -88.459408  \n",
       "2 2021-01-01  -159.225500  \n",
       "3 2021-01-01    -9.622692  \n",
       "4 2021-01-01     0.000000  "
      ]
     },
     "execution_count": 14,
     "metadata": {},
     "output_type": "execute_result"
    }
   ],
   "source": [
    "finance = new.query(\"Department == 'Finance' \")\n",
    "finance.Month = pd.to_datetime(finance.Month.apply(lambda x: x[:-2]+'20'+x[-2:]).apply(mdy_to_ymd))\n",
    "finance.head()"
   ]
  },
  {
   "cell_type": "code",
   "execution_count": 15,
   "id": "e9e7ea7f",
   "metadata": {},
   "outputs": [
    {
     "data": {
      "text/html": [
       "<div>\n",
       "<style scoped>\n",
       "    .dataframe tbody tr th:only-of-type {\n",
       "        vertical-align: middle;\n",
       "    }\n",
       "\n",
       "    .dataframe tbody tr th {\n",
       "        vertical-align: top;\n",
       "    }\n",
       "\n",
       "    .dataframe thead th {\n",
       "        text-align: right;\n",
       "    }\n",
       "</style>\n",
       "<table border=\"1\" class=\"dataframe\">\n",
       "  <thead>\n",
       "    <tr style=\"text-align: right;\">\n",
       "      <th></th>\n",
       "      <th>Department</th>\n",
       "      <th>Segment</th>\n",
       "      <th>Brand</th>\n",
       "      <th>Market</th>\n",
       "      <th>GLName</th>\n",
       "      <th>Notes</th>\n",
       "      <th>Month</th>\n",
       "      <th>Value</th>\n",
       "    </tr>\n",
       "  </thead>\n",
       "  <tbody>\n",
       "    <tr>\n",
       "      <th>37</th>\n",
       "      <td>Marketing</td>\n",
       "      <td>B2C</td>\n",
       "      <td>A</td>\n",
       "      <td>NaN</td>\n",
       "      <td>Audit Fee</td>\n",
       "      <td>NaN</td>\n",
       "      <td>2021-01-01</td>\n",
       "      <td>-1752.1700</td>\n",
       "    </tr>\n",
       "    <tr>\n",
       "      <th>38</th>\n",
       "      <td>Marketing</td>\n",
       "      <td>B2C</td>\n",
       "      <td>A</td>\n",
       "      <td>NaN</td>\n",
       "      <td>Bank Fees</td>\n",
       "      <td>NaN</td>\n",
       "      <td>2021-01-01</td>\n",
       "      <td>-106.5776</td>\n",
       "    </tr>\n",
       "    <tr>\n",
       "      <th>39</th>\n",
       "      <td>Marketing</td>\n",
       "      <td>B2C</td>\n",
       "      <td>A</td>\n",
       "      <td>NaN</td>\n",
       "      <td>Business support solutions</td>\n",
       "      <td>NaN</td>\n",
       "      <td>2021-01-01</td>\n",
       "      <td>-164.1500</td>\n",
       "    </tr>\n",
       "    <tr>\n",
       "      <th>40</th>\n",
       "      <td>Marketing</td>\n",
       "      <td>B2C</td>\n",
       "      <td>A</td>\n",
       "      <td>NaN</td>\n",
       "      <td>Interest Expense</td>\n",
       "      <td>NaN</td>\n",
       "      <td>2021-01-01</td>\n",
       "      <td>-320.7564</td>\n",
       "    </tr>\n",
       "    <tr>\n",
       "      <th>41</th>\n",
       "      <td>Marketing</td>\n",
       "      <td>B2C</td>\n",
       "      <td>A</td>\n",
       "      <td>NaN</td>\n",
       "      <td>Project ACES</td>\n",
       "      <td>NaN</td>\n",
       "      <td>2021-01-01</td>\n",
       "      <td>0.0000</td>\n",
       "    </tr>\n",
       "  </tbody>\n",
       "</table>\n",
       "</div>"
      ],
      "text/plain": [
       "   Department Segment Brand  Market                      GLName  Notes  \\\n",
       "37  Marketing     B2C     A     NaN                   Audit Fee    NaN   \n",
       "38  Marketing     B2C     A     NaN                   Bank Fees    NaN   \n",
       "39  Marketing     B2C     A     NaN  Business support solutions    NaN   \n",
       "40  Marketing     B2C     A     NaN            Interest Expense    NaN   \n",
       "41  Marketing     B2C     A     NaN                Project ACES    NaN   \n",
       "\n",
       "        Month      Value  \n",
       "37 2021-01-01 -1752.1700  \n",
       "38 2021-01-01  -106.5776  \n",
       "39 2021-01-01  -164.1500  \n",
       "40 2021-01-01  -320.7564  \n",
       "41 2021-01-01     0.0000  "
      ]
     },
     "execution_count": 15,
     "metadata": {},
     "output_type": "execute_result"
    }
   ],
   "source": [
    "marketing = new.query(\"Department == 'Marketing' \")\n",
    "marketing.Month = pd.to_datetime(marketing.Month.apply(lambda x: x[:-2]+'20'+x[-2:]).apply(mdy_to_ymd))\n",
    "marketing.head()"
   ]
  },
  {
   "cell_type": "markdown",
   "id": "e245b03b",
   "metadata": {},
   "source": [
    "## Update the Marketing output.xlsx(Data sheet) with the new data. Append below the existing data, leave data before"
   ]
  },
  {
   "cell_type": "code",
   "execution_count": 16,
   "id": "ae1e5320",
   "metadata": {},
   "outputs": [
    {
     "data": {
      "text/html": [
       "<div>\n",
       "<style scoped>\n",
       "    .dataframe tbody tr th:only-of-type {\n",
       "        vertical-align: middle;\n",
       "    }\n",
       "\n",
       "    .dataframe tbody tr th {\n",
       "        vertical-align: top;\n",
       "    }\n",
       "\n",
       "    .dataframe thead th {\n",
       "        text-align: right;\n",
       "    }\n",
       "</style>\n",
       "<table border=\"1\" class=\"dataframe\">\n",
       "  <thead>\n",
       "    <tr style=\"text-align: right;\">\n",
       "      <th></th>\n",
       "      <th>Department</th>\n",
       "      <th>Segment</th>\n",
       "      <th>Brand</th>\n",
       "      <th>Market</th>\n",
       "      <th>GLName</th>\n",
       "      <th>Notes</th>\n",
       "      <th>Month</th>\n",
       "      <th>Value</th>\n",
       "    </tr>\n",
       "  </thead>\n",
       "  <tbody>\n",
       "    <tr>\n",
       "      <th>0</th>\n",
       "      <td>Marketing</td>\n",
       "      <td>B2C</td>\n",
       "      <td>A</td>\n",
       "      <td>NaN</td>\n",
       "      <td>Audit Fee</td>\n",
       "      <td>NaN</td>\n",
       "      <td>2020-01-01</td>\n",
       "      <td>46</td>\n",
       "    </tr>\n",
       "    <tr>\n",
       "      <th>1</th>\n",
       "      <td>Marketing</td>\n",
       "      <td>B2C</td>\n",
       "      <td>A</td>\n",
       "      <td>NaN</td>\n",
       "      <td>Bank Fees</td>\n",
       "      <td>NaN</td>\n",
       "      <td>2020-02-01</td>\n",
       "      <td>896</td>\n",
       "    </tr>\n",
       "    <tr>\n",
       "      <th>2</th>\n",
       "      <td>Marketing</td>\n",
       "      <td>B2C</td>\n",
       "      <td>A</td>\n",
       "      <td>NaN</td>\n",
       "      <td>Business support solutions</td>\n",
       "      <td>NaN</td>\n",
       "      <td>2020-03-01</td>\n",
       "      <td>412</td>\n",
       "    </tr>\n",
       "    <tr>\n",
       "      <th>3</th>\n",
       "      <td>Marketing</td>\n",
       "      <td>B2C</td>\n",
       "      <td>A</td>\n",
       "      <td>NaN</td>\n",
       "      <td>Interest Expense</td>\n",
       "      <td>NaN</td>\n",
       "      <td>2020-04-01</td>\n",
       "      <td>208</td>\n",
       "    </tr>\n",
       "    <tr>\n",
       "      <th>4</th>\n",
       "      <td>Marketing</td>\n",
       "      <td>B2C</td>\n",
       "      <td>A</td>\n",
       "      <td>NaN</td>\n",
       "      <td>Project ACES</td>\n",
       "      <td>NaN</td>\n",
       "      <td>2020-05-01</td>\n",
       "      <td>728</td>\n",
       "    </tr>\n",
       "  </tbody>\n",
       "</table>\n",
       "</div>"
      ],
      "text/plain": [
       "  Department Segment Brand  Market                      GLName  Notes  \\\n",
       "0  Marketing     B2C     A     NaN                   Audit Fee    NaN   \n",
       "1  Marketing     B2C     A     NaN                   Bank Fees    NaN   \n",
       "2  Marketing     B2C     A     NaN  Business support solutions    NaN   \n",
       "3  Marketing     B2C     A     NaN            Interest Expense    NaN   \n",
       "4  Marketing     B2C     A     NaN                Project ACES    NaN   \n",
       "\n",
       "       Month  Value  \n",
       "0 2020-01-01     46  \n",
       "1 2020-02-01    896  \n",
       "2 2020-03-01    412  \n",
       "3 2020-04-01    208  \n",
       "4 2020-05-01    728  "
      ]
     },
     "execution_count": 16,
     "metadata": {},
     "output_type": "execute_result"
    }
   ],
   "source": [
    "marketing2 = pd.read_excel('Marketing Output.xlsx',sheet_name = 'Data')\n",
    "marketing2.head()"
   ]
  },
  {
   "cell_type": "code",
   "execution_count": 17,
   "id": "cc205d11",
   "metadata": {},
   "outputs": [
    {
     "data": {
      "text/html": [
       "<div>\n",
       "<style scoped>\n",
       "    .dataframe tbody tr th:only-of-type {\n",
       "        vertical-align: middle;\n",
       "    }\n",
       "\n",
       "    .dataframe tbody tr th {\n",
       "        vertical-align: top;\n",
       "    }\n",
       "\n",
       "    .dataframe thead th {\n",
       "        text-align: right;\n",
       "    }\n",
       "</style>\n",
       "<table border=\"1\" class=\"dataframe\">\n",
       "  <thead>\n",
       "    <tr style=\"text-align: right;\">\n",
       "      <th></th>\n",
       "      <th>Department</th>\n",
       "      <th>Segment</th>\n",
       "      <th>Brand</th>\n",
       "      <th>Market</th>\n",
       "      <th>GLName</th>\n",
       "      <th>Notes</th>\n",
       "      <th>Month</th>\n",
       "      <th>Value</th>\n",
       "    </tr>\n",
       "  </thead>\n",
       "  <tbody>\n",
       "    <tr>\n",
       "      <th>0</th>\n",
       "      <td>Marketing</td>\n",
       "      <td>B2C</td>\n",
       "      <td>A</td>\n",
       "      <td>NaN</td>\n",
       "      <td>Audit Fee</td>\n",
       "      <td>NaN</td>\n",
       "      <td>2020-01-01</td>\n",
       "      <td>46.0</td>\n",
       "    </tr>\n",
       "    <tr>\n",
       "      <th>1</th>\n",
       "      <td>Marketing</td>\n",
       "      <td>B2C</td>\n",
       "      <td>A</td>\n",
       "      <td>NaN</td>\n",
       "      <td>Bank Fees</td>\n",
       "      <td>NaN</td>\n",
       "      <td>2020-02-01</td>\n",
       "      <td>896.0</td>\n",
       "    </tr>\n",
       "    <tr>\n",
       "      <th>2</th>\n",
       "      <td>Marketing</td>\n",
       "      <td>B2C</td>\n",
       "      <td>A</td>\n",
       "      <td>NaN</td>\n",
       "      <td>Business support solutions</td>\n",
       "      <td>NaN</td>\n",
       "      <td>2020-03-01</td>\n",
       "      <td>412.0</td>\n",
       "    </tr>\n",
       "    <tr>\n",
       "      <th>3</th>\n",
       "      <td>Marketing</td>\n",
       "      <td>B2C</td>\n",
       "      <td>A</td>\n",
       "      <td>NaN</td>\n",
       "      <td>Interest Expense</td>\n",
       "      <td>NaN</td>\n",
       "      <td>2020-04-01</td>\n",
       "      <td>208.0</td>\n",
       "    </tr>\n",
       "    <tr>\n",
       "      <th>4</th>\n",
       "      <td>Marketing</td>\n",
       "      <td>B2C</td>\n",
       "      <td>A</td>\n",
       "      <td>NaN</td>\n",
       "      <td>Project ACES</td>\n",
       "      <td>NaN</td>\n",
       "      <td>2020-05-01</td>\n",
       "      <td>728.0</td>\n",
       "    </tr>\n",
       "  </tbody>\n",
       "</table>\n",
       "</div>"
      ],
      "text/plain": [
       "  Department Segment Brand  Market                      GLName  Notes  \\\n",
       "0  Marketing     B2C     A     NaN                   Audit Fee    NaN   \n",
       "1  Marketing     B2C     A     NaN                   Bank Fees    NaN   \n",
       "2  Marketing     B2C     A     NaN  Business support solutions    NaN   \n",
       "3  Marketing     B2C     A     NaN            Interest Expense    NaN   \n",
       "4  Marketing     B2C     A     NaN                Project ACES    NaN   \n",
       "\n",
       "       Month  Value  \n",
       "0 2020-01-01   46.0  \n",
       "1 2020-02-01  896.0  \n",
       "2 2020-03-01  412.0  \n",
       "3 2020-04-01  208.0  \n",
       "4 2020-05-01  728.0  "
      ]
     },
     "execution_count": 17,
     "metadata": {},
     "output_type": "execute_result"
    }
   ],
   "source": [
    "marketing_new = pd.concat([marketing2,marketing])\n",
    "marketing_new.head()"
   ]
  },
  {
   "cell_type": "code",
   "execution_count": 18,
   "id": "69c3a0cc",
   "metadata": {},
   "outputs": [],
   "source": [
    "write_excel('Marketing Output.xlsx','Data',marketing_new)"
   ]
  },
  {
   "cell_type": "markdown",
   "id": "78988353",
   "metadata": {},
   "source": [
    "## Update the Finance output.xlsx(Data sheet) with the new data. Append below the existing data, leave data before"
   ]
  },
  {
   "cell_type": "code",
   "execution_count": 19,
   "id": "3b2fb949",
   "metadata": {},
   "outputs": [],
   "source": [
    "finance2 = pd.read_excel('Finance Output.xlsx',sheet_name = 'Data')"
   ]
  },
  {
   "cell_type": "code",
   "execution_count": 20,
   "id": "8db43c16",
   "metadata": {},
   "outputs": [
    {
     "data": {
      "text/html": [
       "<div>\n",
       "<style scoped>\n",
       "    .dataframe tbody tr th:only-of-type {\n",
       "        vertical-align: middle;\n",
       "    }\n",
       "\n",
       "    .dataframe tbody tr th {\n",
       "        vertical-align: top;\n",
       "    }\n",
       "\n",
       "    .dataframe thead th {\n",
       "        text-align: right;\n",
       "    }\n",
       "</style>\n",
       "<table border=\"1\" class=\"dataframe\">\n",
       "  <thead>\n",
       "    <tr style=\"text-align: right;\">\n",
       "      <th></th>\n",
       "      <th>Department</th>\n",
       "      <th>Segment</th>\n",
       "      <th>Brand</th>\n",
       "      <th>Market</th>\n",
       "      <th>GLName</th>\n",
       "      <th>Notes</th>\n",
       "      <th>Month</th>\n",
       "      <th>Value</th>\n",
       "    </tr>\n",
       "  </thead>\n",
       "  <tbody>\n",
       "    <tr>\n",
       "      <th>0</th>\n",
       "      <td>Finance</td>\n",
       "      <td>B2C</td>\n",
       "      <td>A</td>\n",
       "      <td>NaN</td>\n",
       "      <td>Audit Fee</td>\n",
       "      <td>NaN</td>\n",
       "      <td>2020-01-01</td>\n",
       "      <td>61.0</td>\n",
       "    </tr>\n",
       "    <tr>\n",
       "      <th>1</th>\n",
       "      <td>Finance</td>\n",
       "      <td>B2C</td>\n",
       "      <td>A</td>\n",
       "      <td>NaN</td>\n",
       "      <td>Bank Fees</td>\n",
       "      <td>NaN</td>\n",
       "      <td>2020-02-01</td>\n",
       "      <td>477.0</td>\n",
       "    </tr>\n",
       "    <tr>\n",
       "      <th>2</th>\n",
       "      <td>Finance</td>\n",
       "      <td>B2C</td>\n",
       "      <td>A</td>\n",
       "      <td>NaN</td>\n",
       "      <td>Business support solutions</td>\n",
       "      <td>NaN</td>\n",
       "      <td>2020-03-01</td>\n",
       "      <td>273.0</td>\n",
       "    </tr>\n",
       "    <tr>\n",
       "      <th>3</th>\n",
       "      <td>Finance</td>\n",
       "      <td>B2C</td>\n",
       "      <td>A</td>\n",
       "      <td>NaN</td>\n",
       "      <td>Interest Expense</td>\n",
       "      <td>NaN</td>\n",
       "      <td>2020-04-01</td>\n",
       "      <td>718.0</td>\n",
       "    </tr>\n",
       "    <tr>\n",
       "      <th>4</th>\n",
       "      <td>Finance</td>\n",
       "      <td>B2C</td>\n",
       "      <td>A</td>\n",
       "      <td>NaN</td>\n",
       "      <td>Project ACES</td>\n",
       "      <td>NaN</td>\n",
       "      <td>2020-05-01</td>\n",
       "      <td>750.0</td>\n",
       "    </tr>\n",
       "  </tbody>\n",
       "</table>\n",
       "</div>"
      ],
      "text/plain": [
       "  Department Segment Brand  Market                      GLName  Notes  \\\n",
       "0    Finance     B2C     A     NaN                   Audit Fee    NaN   \n",
       "1    Finance     B2C     A     NaN                   Bank Fees    NaN   \n",
       "2    Finance     B2C     A     NaN  Business support solutions    NaN   \n",
       "3    Finance     B2C     A     NaN            Interest Expense    NaN   \n",
       "4    Finance     B2C     A     NaN                Project ACES    NaN   \n",
       "\n",
       "       Month  Value  \n",
       "0 2020-01-01   61.0  \n",
       "1 2020-02-01  477.0  \n",
       "2 2020-03-01  273.0  \n",
       "3 2020-04-01  718.0  \n",
       "4 2020-05-01  750.0  "
      ]
     },
     "execution_count": 20,
     "metadata": {},
     "output_type": "execute_result"
    }
   ],
   "source": [
    "finance_new = pd.concat([finance2,finance])\n",
    "finance_new.head()"
   ]
  },
  {
   "cell_type": "code",
   "execution_count": 21,
   "id": "438885c2",
   "metadata": {},
   "outputs": [],
   "source": [
    "write_excel('Finance Output.xlsx','Data',finance_new)"
   ]
  },
  {
   "cell_type": "code",
   "execution_count": null,
   "id": "9c3dd027",
   "metadata": {},
   "outputs": [],
   "source": []
  },
  {
   "cell_type": "code",
   "execution_count": null,
   "id": "3a961abf",
   "metadata": {},
   "outputs": [],
   "source": []
  }
 ],
 "metadata": {
  "kernelspec": {
   "display_name": "Python 3",
   "language": "python",
   "name": "python3"
  },
  "language_info": {
   "codemirror_mode": {
    "name": "ipython",
    "version": 3
   },
   "file_extension": ".py",
   "mimetype": "text/x-python",
   "name": "python",
   "nbconvert_exporter": "python",
   "pygments_lexer": "ipython3",
   "version": "3.8.8"
  }
 },
 "nbformat": 4,
 "nbformat_minor": 5
}
